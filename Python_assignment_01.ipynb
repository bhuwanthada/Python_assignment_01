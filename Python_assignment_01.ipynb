{
  "nbformat": 4,
  "nbformat_minor": 0,
  "metadata": {
    "colab": {
      "name": "Python_assignment_01",
      "provenance": [],
      "collapsed_sections": [],
      "authorship_tag": "ABX9TyMrpVCaBPTnjw9sE0pnz+cP",
      "include_colab_link": true
    },
    "kernelspec": {
      "name": "python3",
      "display_name": "Python 3"
    }
  },
  "cells": [
    {
      "cell_type": "markdown",
      "metadata": {
        "id": "view-in-github",
        "colab_type": "text"
      },
      "source": [
        "<a href=\"https://colab.research.google.com/github/bhuwanthada/Python_assignment_01/blob/master/Python_assignment_01.ipynb\" target=\"_parent\"><img src=\"https://colab.research.google.com/assets/colab-badge.svg\" alt=\"Open In Colab\"/></a>"
      ]
    },
    {
      "cell_type": "code",
      "metadata": {
        "id": "fc3Oc1Z_6-Pk",
        "colab_type": "code",
        "colab": {}
      },
      "source": [
        "1.Write a program which will find all such numbers which are divisible by 7 but are not a\n",
        "multiple of 5, between 2000 and 3200 (both included). The numbers obtained should be printed\n",
        "in a comma-separated sequence on a single line."
      ],
      "execution_count": 0,
      "outputs": []
    },
    {
      "cell_type": "code",
      "metadata": {
        "id": "piTdakFW7I16",
        "colab_type": "code",
        "colab": {
          "base_uri": "https://localhost:8080/",
          "height": 54
        },
        "outputId": "c85881ab-6d4c-4a3c-c896-01a3940c50fe"
      },
      "source": [
        "def main():\n",
        "\n",
        "    for i in range(2000,3001):\n",
        "        if (i%7 == 0) and (i%5 != 0):\n",
        "            print(i,\",\",end='')\n",
        "\n",
        "main()"
      ],
      "execution_count": 1,
      "outputs": [
        {
          "output_type": "stream",
          "text": [
            "2002 ,2009 ,2016 ,2023 ,2037 ,2044 ,2051 ,2058 ,2072 ,2079 ,2086 ,2093 ,2107 ,2114 ,2121 ,2128 ,2142 ,2149 ,2156 ,2163 ,2177 ,2184 ,2191 ,2198 ,2212 ,2219 ,2226 ,2233 ,2247 ,2254 ,2261 ,2268 ,2282 ,2289 ,2296 ,2303 ,2317 ,2324 ,2331 ,2338 ,2352 ,2359 ,2366 ,2373 ,2387 ,2394 ,2401 ,2408 ,2422 ,2429 ,2436 ,2443 ,2457 ,2464 ,2471 ,2478 ,2492 ,2499 ,2506 ,2513 ,2527 ,2534 ,2541 ,2548 ,2562 ,2569 ,2576 ,2583 ,2597 ,2604 ,2611 ,2618 ,2632 ,2639 ,2646 ,2653 ,2667 ,2674 ,2681 ,2688 ,2702 ,2709 ,2716 ,2723 ,2737 ,2744 ,2751 ,2758 ,2772 ,2779 ,2786 ,2793 ,2807 ,2814 ,2821 ,2828 ,2842 ,2849 ,2856 ,2863 ,2877 ,2884 ,2891 ,2898 ,2912 ,2919 ,2926 ,2933 ,2947 ,2954 ,2961 ,2968 ,2982 ,2989 ,2996 ,"
          ],
          "name": "stdout"
        }
      ]
    },
    {
      "cell_type": "markdown",
      "metadata": {
        "id": "0hdhRk1l7PP8",
        "colab_type": "text"
      },
      "source": [
        "2.Write a Python program to accept the user first and last name and then getting them\n",
        "printed in the the reverse order with a space between first name and last name."
      ]
    },
    {
      "cell_type": "code",
      "metadata": {
        "id": "PPTSrzeI7Vaw",
        "colab_type": "code",
        "colab": {
          "base_uri": "https://localhost:8080/",
          "height": 85
        },
        "outputId": "6db90a87-12bc-4b3b-8fbd-aae68502bc9b"
      },
      "source": [
        "def main():\n",
        "    first_name = input(\"Enter the first name: \")\n",
        "    last_name  = input(\"Enter the last name: \")\n",
        "    first_name = list(first_name)\n",
        "    last_name = list(last_name)\n",
        "    rev_f_name = first_name[::-1]\n",
        "    rev_f_name = ''.join(rev_f_name)\n",
        "    rev_l_name = last_name[::-1]\n",
        "    rev_l_name = ''.join(rev_l_name)\n",
        "    first_name = ''.join(first_name)\n",
        "    last_name = ''.join(last_name)\n",
        "    print(\"Original name:\",first_name,last_name)\n",
        "    print(\"rev_name:\",rev_f_name,rev_l_name)\n",
        "\n",
        "main()"
      ],
      "execution_count": 3,
      "outputs": [
        {
          "output_type": "stream",
          "text": [
            "Enter the first name: Bhuwan\n",
            "Enter the last name: Thada\n",
            "Original name: Bhuwan Thada\n",
            "rev_name: nawuhB adahT\n"
          ],
          "name": "stdout"
        }
      ]
    },
    {
      "cell_type": "markdown",
      "metadata": {
        "id": "VolnHOVq8fBa",
        "colab_type": "text"
      },
      "source": [
        "3.Write a Python program to find the volume of a sphere with diameter 12 cm.\n",
        "Formula: V=4/3 * π * r 3"
      ]
    },
    {
      "cell_type": "code",
      "metadata": {
        "id": "F0lP3_2a8h4H",
        "colab_type": "code",
        "colab": {
          "base_uri": "https://localhost:8080/",
          "height": 34
        },
        "outputId": "ad2c1d6e-11b8-47eb-d5be-ba2c40353008"
      },
      "source": [
        "def main():\n",
        "    dia = 12\n",
        "    volume = ((4/3)*(22/7)*((dia/2)**3))\n",
        "    print(\"volume:\",volume)\n",
        "    \n",
        "main()"
      ],
      "execution_count": 4,
      "outputs": [
        {
          "output_type": "stream",
          "text": [
            "volume: 905.142857142857\n"
          ],
          "name": "stdout"
        }
      ]
    }
  ]
}